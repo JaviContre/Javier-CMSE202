{
 "cells": [
  {
   "cell_type": "markdown",
   "id": "6c5e6854-6890-4440-927d-1c5666fe7858",
   "metadata": {
    "tags": []
   },
   "source": [
    "# CMSE 202 Midterm S23 (Sect. 002)\n",
    "\n",
    "The goal of this midterm is to give you the opportunity to test out some of the skills that you've developed thus far this semester. In particular, you'll reflect on what you know about writing code using Python and showcase some of your new programming skills.\n",
    "\n",
    "**Important note about using online resources:** This exam is \"open internet\". That means that you can look up documentation, google how to accomplish certain Python tasks, etc. Being able to effectively use the internet for computational modeling and data science is a very important skill, so we want to make sure you have the opportunity to exercise that skill. **However, the use of any person-to-person communication software is absolutely not acceptable.**\n",
    "\n",
    "**Do your own work.** This midterm is designed to give you the opportunity to show the instructor what you can do and you should hold yourself accountable for maintaining a high level of academic integrity. Any violation of academic integrity could result in you receiving a zero on the midterm.\n",
    "\n",
    "You are encouraged to look through the entire exam before you get started so that you can appropriately budget your time and understand the broad goals of the exam.\n",
    "\n",
    "If you have any questions during the exam, you may ask the instructor, the TA, or the LA privately; simply raise your hand and one of us will come over to you. \n",
    "\n",
    "### Content Knowledge Tested\n",
    "- Using Github to save and track progress on your work\n",
    "- Using Pandas to read, manipulate, and access data files\n",
    "- Using documentation and examples to effectively utilitze unfamiliar Python packages \n",
    "- Writing new classes to effectively store complex datasets"
   ]
  },
  {
   "cell_type": "markdown",
   "id": "dcc1f32a-2fcc-4031-94ff-096062983643",
   "metadata": {
    "tags": []
   },
   "source": [
    "## Part 0: Add to your Git repository to track your progress on your exam (10 points total)\n",
    "\n",
    "Before you get to far along in the exam, you're going to add it to the `cmse202-S23-turnin` repository you created in class so that you can track your progress on the exam and preserve the final version that you turn in. In order to do this you need to\n",
    "\n",
    "### &#9989; Part 0.1 (5 points):\n",
    "\n",
    "1. Navigate to your `cmse202-S23-turnin` repository and create a new directory called `midterm`.\n",
    "2. Move this notebook into that **new directory** in your repository, then **add it and commit it to your repository**.\n",
    "1. Finally, to test that everything is working, \"git push\" the file so that it ends up in your GitHub repository.\n",
    "\n",
    "**Important**: Double check you've added your Professor and your TA as collaborators to your \"turnin\" respository (you should have done this in the previous homework assignment).\n",
    "\n",
    "**Also important**: Make sure that the version of this notebook that you are working on is the same one that you just added to your repository! If you are working on a different copy of the noteobok, **none of your changes will be tracked**!\n",
    "\n",
    "The file should now show up on your GitHub account in the `cmse202-S23-turnin` repository inside the `midterm` directory you just created.  Periodically, **you'll be asked to commit your changes to the repository and push them to the remote GitHub location**. It can be good to get into a habit of committing your changes any time you make a significant modification.\n",
    "\n",
    "### Part 0.2 (2 points):\n",
    "&#9989; Before you move on, **put the command(s) that your instructor should run to clone your repository in the markdown cell below.**"
   ]
  },
  {
   "cell_type": "code",
   "execution_count": 1,
   "id": "d5411504-4c33-446f-95f6-7bef07e94fdd",
   "metadata": {},
   "outputs": [],
   "source": [
    "#Write your code here\n",
    "# git clone"
   ]
  },
  {
   "cell_type": "markdown",
   "id": "4983c96b-98f0-415d-8a38-39c1623dbe8a",
   "metadata": {},
   "source": [
    "## Part 1: Getting Data with Curl ( points)\n",
    "\n",
    "For this exam, you will be working with a dataset that contains **spectra.** Spectra are what you get when you separate light–like in a prism–and measure the flux (fancy word for brightness) of the different parts of the light (E.g., blue has a flux of 400, red has a flux of 600, etc.). More specifically, we measure the *wavelength* of the light (shorter wavelengths = bluer, longer wavelengths=redder). The data we’ll be working with came from a space telescope looking at different astronomical sources. \n",
    "\n",
    "For this exam, you only need to know that wavelength and flux are measured values used in astronomy, physics, chemistry, and biology. \n",
    "\n",
    "\n",
    "First, let’s get our data files. \n",
    "\n",
    "&#9989; **Download the files using `curl` and the following links. Put the commands you used to download the files in the cell below.**\n",
    "\n",
    "- `https://raw.githubusercontent.com/msu-cmse-courses/cmse202-S23-data/main/midterm/metadata.csv`\n",
    "- `https://raw.githubusercontent.com/msu-cmse-courses/cmse202-S23-data/main/midterm/flux_values.csv`\n",
    "- `https://raw.githubusercontent.com/msu-cmse-courses/cmse202-S23-data/main/midterm/wavlength_values.csv`\n"
   ]
  },
  {
   "cell_type": "code",
   "execution_count": 96,
   "id": "8a5c8eac-5deb-477c-803a-527b4cc9c2c0",
   "metadata": {},
   "outputs": [],
   "source": [
    "#Write your code here\n",
    "# curl -o metadata.csv https://raw.githubusercontent.com/msu-cmse-courses/cmse202-S23-data/main/midterm/metadata.csv\n",
    "# curl -o flux_values.csv https://raw.githubusercontent.com/msu-cmse-courses/cmse202-S23-data/main/midterm/flux_values.csv\n",
    "# curl -o wavlength_values.csv https://raw.githubusercontent.com/msu-cmse-courses/cmse202-S23-data/main/midterm/wavlength_values.csv"
   ]
  },
  {
   "cell_type": "markdown",
   "id": "81c8c313-2d23-4eff-a713-7abf289d3773",
   "metadata": {
    "tags": []
   },
   "source": [
    "## Part 2: Reading the Data (5 points)\n",
    "\n",
    "&#9989; **Read in the data files using Pandas (put your code in the cell below).** One of them has metadata about each source, one of them has flux values for each source, and the last one has the wavelength values for each source. "
   ]
  },
  {
   "cell_type": "code",
   "execution_count": 97,
   "id": "a3a77d21-f2ed-40b9-aa23-77ca5faefb80",
   "metadata": {},
   "outputs": [],
   "source": [
    "#Write your code here\n",
    "import pandas as pd\n",
    "metadata = pd.read_csv('metadata.csv')\n",
    "flux_values = pd.read_csv('flux_values.csv')\n",
    "wavlength_values = pd.read_csv('wavlength_values.csv')"
   ]
  },
  {
   "cell_type": "code",
   "execution_count": 98,
   "id": "5f4de722",
   "metadata": {},
   "outputs": [
    {
     "data": {
      "text/html": [
       "<div>\n",
       "<style scoped>\n",
       "    .dataframe tbody tr th:only-of-type {\n",
       "        vertical-align: middle;\n",
       "    }\n",
       "\n",
       "    .dataframe tbody tr th {\n",
       "        vertical-align: top;\n",
       "    }\n",
       "\n",
       "    .dataframe thead th {\n",
       "        text-align: right;\n",
       "    }\n",
       "</style>\n",
       "<table border=\"1\" class=\"dataframe\">\n",
       "  <thead>\n",
       "    <tr style=\"text-align: right;\">\n",
       "      <th></th>\n",
       "      <th>ID</th>\n",
       "      <th>RA</th>\n",
       "      <th>DEC</th>\n",
       "      <th>Scale Factor</th>\n",
       "    </tr>\n",
       "  </thead>\n",
       "  <tbody>\n",
       "    <tr>\n",
       "      <th>0</th>\n",
       "      <td>12043-6225</td>\n",
       "      <td>12.073</td>\n",
       "      <td>-62.428</td>\n",
       "      <td>1.250000e-16</td>\n",
       "    </tr>\n",
       "    <tr>\n",
       "      <th>1</th>\n",
       "      <td>12063-6259</td>\n",
       "      <td>12.106</td>\n",
       "      <td>-62.987</td>\n",
       "      <td>2.970000e-16</td>\n",
       "    </tr>\n",
       "    <tr>\n",
       "      <th>2</th>\n",
       "      <td>12073-6233</td>\n",
       "      <td>12.123</td>\n",
       "      <td>-62.554</td>\n",
       "      <td>3.130000e-15</td>\n",
       "    </tr>\n",
       "    <tr>\n",
       "      <th>3</th>\n",
       "      <td>12148-6741</td>\n",
       "      <td>12.247</td>\n",
       "      <td>-67.683</td>\n",
       "      <td>1.730000e-15</td>\n",
       "    </tr>\n",
       "    <tr>\n",
       "      <th>4</th>\n",
       "      <td>12216-6218</td>\n",
       "      <td>12.360</td>\n",
       "      <td>-62.303</td>\n",
       "      <td>2.180000e-16</td>\n",
       "    </tr>\n",
       "  </tbody>\n",
       "</table>\n",
       "</div>"
      ],
      "text/plain": [
       "           ID      RA     DEC  Scale Factor\n",
       "0  12043-6225  12.073 -62.428  1.250000e-16\n",
       "1  12063-6259  12.106 -62.987  2.970000e-16\n",
       "2  12073-6233  12.123 -62.554  3.130000e-15\n",
       "3  12148-6741  12.247 -67.683  1.730000e-15\n",
       "4  12216-6218  12.360 -62.303  2.180000e-16"
      ]
     },
     "execution_count": 98,
     "metadata": {},
     "output_type": "execute_result"
    }
   ],
   "source": [
    "metadata.head()"
   ]
  },
  {
   "cell_type": "code",
   "execution_count": 99,
   "id": "45131f08",
   "metadata": {},
   "outputs": [
    {
     "data": {
      "text/html": [
       "<div>\n",
       "<style scoped>\n",
       "    .dataframe tbody tr th:only-of-type {\n",
       "        vertical-align: middle;\n",
       "    }\n",
       "\n",
       "    .dataframe tbody tr th {\n",
       "        vertical-align: top;\n",
       "    }\n",
       "\n",
       "    .dataframe thead th {\n",
       "        text-align: right;\n",
       "    }\n",
       "</style>\n",
       "<table border=\"1\" class=\"dataframe\">\n",
       "  <thead>\n",
       "    <tr style=\"text-align: right;\">\n",
       "      <th></th>\n",
       "      <th>12043-6225</th>\n",
       "      <th>12063-6259</th>\n",
       "      <th>12073-6233</th>\n",
       "      <th>12148-6741</th>\n",
       "      <th>12216-6218</th>\n",
       "      <th>12226+0102</th>\n",
       "      <th>12230-5943</th>\n",
       "      <th>12233-5920</th>\n",
       "      <th>12247-5842</th>\n",
       "      <th>12274-7647</th>\n",
       "      <th>...</th>\n",
       "      <th>23309+2213</th>\n",
       "      <th>23320+4316</th>\n",
       "      <th>23365+5159</th>\n",
       "      <th>23416+6130</th>\n",
       "      <th>23439+5412</th>\n",
       "      <th>23491+6243</th>\n",
       "      <th>23496+6131</th>\n",
       "      <th>23528+4821</th>\n",
       "      <th>23541+7031</th>\n",
       "      <th>23564-5651</th>\n",
       "    </tr>\n",
       "  </thead>\n",
       "  <tbody>\n",
       "    <tr>\n",
       "      <th>0</th>\n",
       "      <td>4119.1675</td>\n",
       "      <td>7660.9990</td>\n",
       "      <td>3196.4287</td>\n",
       "      <td>26028.451</td>\n",
       "      <td>15835.385</td>\n",
       "      <td>15979.912</td>\n",
       "      <td>13409.692</td>\n",
       "      <td>4723.8423</td>\n",
       "      <td>24852.156</td>\n",
       "      <td>7437.992</td>\n",
       "      <td>...</td>\n",
       "      <td>25954.225</td>\n",
       "      <td>13512.428</td>\n",
       "      <td>11504.0205</td>\n",
       "      <td>5428.5894</td>\n",
       "      <td>15511.477</td>\n",
       "      <td>14111.734</td>\n",
       "      <td>8702.870</td>\n",
       "      <td>15375.604</td>\n",
       "      <td>11814.460</td>\n",
       "      <td>14268.037</td>\n",
       "    </tr>\n",
       "    <tr>\n",
       "      <th>1</th>\n",
       "      <td>4897.2990</td>\n",
       "      <td>7906.7840</td>\n",
       "      <td>3013.9722</td>\n",
       "      <td>23706.814</td>\n",
       "      <td>15097.697</td>\n",
       "      <td>15094.218</td>\n",
       "      <td>12985.147</td>\n",
       "      <td>5399.3550</td>\n",
       "      <td>23494.658</td>\n",
       "      <td>7775.493</td>\n",
       "      <td>...</td>\n",
       "      <td>24277.150</td>\n",
       "      <td>13566.235</td>\n",
       "      <td>10776.7720</td>\n",
       "      <td>5152.7850</td>\n",
       "      <td>15633.458</td>\n",
       "      <td>14462.127</td>\n",
       "      <td>8777.906</td>\n",
       "      <td>14542.233</td>\n",
       "      <td>12896.945</td>\n",
       "      <td>12925.045</td>\n",
       "    </tr>\n",
       "    <tr>\n",
       "      <th>2</th>\n",
       "      <td>4163.9690</td>\n",
       "      <td>7821.8984</td>\n",
       "      <td>3003.1490</td>\n",
       "      <td>21255.066</td>\n",
       "      <td>14774.418</td>\n",
       "      <td>15370.212</td>\n",
       "      <td>12330.412</td>\n",
       "      <td>5080.2930</td>\n",
       "      <td>21760.830</td>\n",
       "      <td>8206.881</td>\n",
       "      <td>...</td>\n",
       "      <td>21686.775</td>\n",
       "      <td>14101.023</td>\n",
       "      <td>10377.4710</td>\n",
       "      <td>5084.3320</td>\n",
       "      <td>15354.947</td>\n",
       "      <td>15572.456</td>\n",
       "      <td>9042.665</td>\n",
       "      <td>13849.163</td>\n",
       "      <td>13033.315</td>\n",
       "      <td>12433.298</td>\n",
       "    </tr>\n",
       "    <tr>\n",
       "      <th>3</th>\n",
       "      <td>5000.7207</td>\n",
       "      <td>7240.5156</td>\n",
       "      <td>3099.5684</td>\n",
       "      <td>19268.297</td>\n",
       "      <td>15353.485</td>\n",
       "      <td>15239.369</td>\n",
       "      <td>11932.745</td>\n",
       "      <td>4978.8910</td>\n",
       "      <td>20237.523</td>\n",
       "      <td>9054.722</td>\n",
       "      <td>...</td>\n",
       "      <td>20223.473</td>\n",
       "      <td>13942.729</td>\n",
       "      <td>10156.5010</td>\n",
       "      <td>5017.1060</td>\n",
       "      <td>13779.858</td>\n",
       "      <td>15107.514</td>\n",
       "      <td>9054.930</td>\n",
       "      <td>13149.557</td>\n",
       "      <td>13371.644</td>\n",
       "      <td>12211.934</td>\n",
       "    </tr>\n",
       "    <tr>\n",
       "      <th>4</th>\n",
       "      <td>5769.1810</td>\n",
       "      <td>6555.7860</td>\n",
       "      <td>3130.7747</td>\n",
       "      <td>17711.970</td>\n",
       "      <td>13989.907</td>\n",
       "      <td>15328.078</td>\n",
       "      <td>11440.469</td>\n",
       "      <td>4896.7485</td>\n",
       "      <td>18943.152</td>\n",
       "      <td>9833.839</td>\n",
       "      <td>...</td>\n",
       "      <td>18529.771</td>\n",
       "      <td>13366.011</td>\n",
       "      <td>9721.1220</td>\n",
       "      <td>5255.4404</td>\n",
       "      <td>13604.027</td>\n",
       "      <td>14094.124</td>\n",
       "      <td>9358.403</td>\n",
       "      <td>12263.955</td>\n",
       "      <td>12632.285</td>\n",
       "      <td>12230.377</td>\n",
       "    </tr>\n",
       "  </tbody>\n",
       "</table>\n",
       "<p>5 rows × 531 columns</p>\n",
       "</div>"
      ],
      "text/plain": [
       "   12043-6225  12063-6259  12073-6233  12148-6741  12216-6218  12226+0102  \\\n",
       "0   4119.1675   7660.9990   3196.4287   26028.451   15835.385   15979.912   \n",
       "1   4897.2990   7906.7840   3013.9722   23706.814   15097.697   15094.218   \n",
       "2   4163.9690   7821.8984   3003.1490   21255.066   14774.418   15370.212   \n",
       "3   5000.7207   7240.5156   3099.5684   19268.297   15353.485   15239.369   \n",
       "4   5769.1810   6555.7860   3130.7747   17711.970   13989.907   15328.078   \n",
       "\n",
       "   12230-5943  12233-5920  12247-5842  12274-7647  ...  23309+2213  \\\n",
       "0   13409.692   4723.8423   24852.156    7437.992  ...   25954.225   \n",
       "1   12985.147   5399.3550   23494.658    7775.493  ...   24277.150   \n",
       "2   12330.412   5080.2930   21760.830    8206.881  ...   21686.775   \n",
       "3   11932.745   4978.8910   20237.523    9054.722  ...   20223.473   \n",
       "4   11440.469   4896.7485   18943.152    9833.839  ...   18529.771   \n",
       "\n",
       "   23320+4316  23365+5159  23416+6130  23439+5412  23491+6243  23496+6131  \\\n",
       "0   13512.428  11504.0205   5428.5894   15511.477   14111.734    8702.870   \n",
       "1   13566.235  10776.7720   5152.7850   15633.458   14462.127    8777.906   \n",
       "2   14101.023  10377.4710   5084.3320   15354.947   15572.456    9042.665   \n",
       "3   13942.729  10156.5010   5017.1060   13779.858   15107.514    9054.930   \n",
       "4   13366.011   9721.1220   5255.4404   13604.027   14094.124    9358.403   \n",
       "\n",
       "   23528+4821  23541+7031  23564-5651  \n",
       "0   15375.604   11814.460   14268.037  \n",
       "1   14542.233   12896.945   12925.045  \n",
       "2   13849.163   13033.315   12433.298  \n",
       "3   13149.557   13371.644   12211.934  \n",
       "4   12263.955   12632.285   12230.377  \n",
       "\n",
       "[5 rows x 531 columns]"
      ]
     },
     "execution_count": 99,
     "metadata": {},
     "output_type": "execute_result"
    }
   ],
   "source": [
    "flux_values.head()"
   ]
  },
  {
   "cell_type": "code",
   "execution_count": 100,
   "id": "e473f4b2",
   "metadata": {},
   "outputs": [
    {
     "data": {
      "text/html": [
       "<div>\n",
       "<style scoped>\n",
       "    .dataframe tbody tr th:only-of-type {\n",
       "        vertical-align: middle;\n",
       "    }\n",
       "\n",
       "    .dataframe tbody tr th {\n",
       "        vertical-align: top;\n",
       "    }\n",
       "\n",
       "    .dataframe thead th {\n",
       "        text-align: right;\n",
       "    }\n",
       "</style>\n",
       "<table border=\"1\" class=\"dataframe\">\n",
       "  <thead>\n",
       "    <tr style=\"text-align: right;\">\n",
       "      <th></th>\n",
       "      <th>12043-6225</th>\n",
       "      <th>12063-6259</th>\n",
       "      <th>12073-6233</th>\n",
       "      <th>12148-6741</th>\n",
       "      <th>12216-6218</th>\n",
       "      <th>12226+0102</th>\n",
       "      <th>12230-5943</th>\n",
       "      <th>12233-5920</th>\n",
       "      <th>12247-5842</th>\n",
       "      <th>12274-7647</th>\n",
       "      <th>...</th>\n",
       "      <th>23309+2213</th>\n",
       "      <th>23320+4316</th>\n",
       "      <th>23365+5159</th>\n",
       "      <th>23416+6130</th>\n",
       "      <th>23439+5412</th>\n",
       "      <th>23491+6243</th>\n",
       "      <th>23496+6131</th>\n",
       "      <th>23528+4821</th>\n",
       "      <th>23541+7031</th>\n",
       "      <th>23564-5651</th>\n",
       "    </tr>\n",
       "  </thead>\n",
       "  <tbody>\n",
       "    <tr>\n",
       "      <th>0</th>\n",
       "      <td>7.860251</td>\n",
       "      <td>7.862759</td>\n",
       "      <td>7.864406</td>\n",
       "      <td>7.864011</td>\n",
       "      <td>7.864883</td>\n",
       "      <td>7.861944</td>\n",
       "      <td>7.870065</td>\n",
       "      <td>7.859010</td>\n",
       "      <td>7.863359</td>\n",
       "      <td>7.864565</td>\n",
       "      <td>...</td>\n",
       "      <td>7.864798</td>\n",
       "      <td>7.861496</td>\n",
       "      <td>7.856951</td>\n",
       "      <td>7.861483</td>\n",
       "      <td>7.862815</td>\n",
       "      <td>7.861386</td>\n",
       "      <td>7.861062</td>\n",
       "      <td>7.871683</td>\n",
       "      <td>7.872028</td>\n",
       "      <td>7.858041</td>\n",
       "    </tr>\n",
       "    <tr>\n",
       "      <th>1</th>\n",
       "      <td>8.054492</td>\n",
       "      <td>8.052193</td>\n",
       "      <td>8.041659</td>\n",
       "      <td>8.050639</td>\n",
       "      <td>8.040395</td>\n",
       "      <td>8.045418</td>\n",
       "      <td>8.050928</td>\n",
       "      <td>8.047220</td>\n",
       "      <td>8.053614</td>\n",
       "      <td>8.051108</td>\n",
       "      <td>...</td>\n",
       "      <td>8.047529</td>\n",
       "      <td>8.045410</td>\n",
       "      <td>8.045976</td>\n",
       "      <td>8.058945</td>\n",
       "      <td>8.050414</td>\n",
       "      <td>8.045272</td>\n",
       "      <td>8.052644</td>\n",
       "      <td>8.050345</td>\n",
       "      <td>8.054690</td>\n",
       "      <td>8.061917</td>\n",
       "    </tr>\n",
       "    <tr>\n",
       "      <th>2</th>\n",
       "      <td>8.226692</td>\n",
       "      <td>8.232277</td>\n",
       "      <td>8.230711</td>\n",
       "      <td>8.227723</td>\n",
       "      <td>8.228763</td>\n",
       "      <td>8.238504</td>\n",
       "      <td>8.229733</td>\n",
       "      <td>8.230733</td>\n",
       "      <td>8.230070</td>\n",
       "      <td>8.233486</td>\n",
       "      <td>...</td>\n",
       "      <td>8.241394</td>\n",
       "      <td>8.231385</td>\n",
       "      <td>8.221734</td>\n",
       "      <td>8.230750</td>\n",
       "      <td>8.230825</td>\n",
       "      <td>8.228073</td>\n",
       "      <td>8.229939</td>\n",
       "      <td>8.230677</td>\n",
       "      <td>8.224249</td>\n",
       "      <td>8.229404</td>\n",
       "    </tr>\n",
       "    <tr>\n",
       "      <th>3</th>\n",
       "      <td>8.396819</td>\n",
       "      <td>8.404827</td>\n",
       "      <td>8.400978</td>\n",
       "      <td>8.405921</td>\n",
       "      <td>8.407011</td>\n",
       "      <td>8.403179</td>\n",
       "      <td>8.402961</td>\n",
       "      <td>8.409550</td>\n",
       "      <td>8.405349</td>\n",
       "      <td>8.398662</td>\n",
       "      <td>...</td>\n",
       "      <td>8.414162</td>\n",
       "      <td>8.406240</td>\n",
       "      <td>8.405529</td>\n",
       "      <td>8.401249</td>\n",
       "      <td>8.399691</td>\n",
       "      <td>8.396961</td>\n",
       "      <td>8.407896</td>\n",
       "      <td>8.407431</td>\n",
       "      <td>8.405985</td>\n",
       "      <td>8.399666</td>\n",
       "    </tr>\n",
       "    <tr>\n",
       "      <th>4</th>\n",
       "      <td>8.585093</td>\n",
       "      <td>8.569422</td>\n",
       "      <td>8.574238</td>\n",
       "      <td>8.571307</td>\n",
       "      <td>8.565902</td>\n",
       "      <td>8.579400</td>\n",
       "      <td>8.574756</td>\n",
       "      <td>8.578492</td>\n",
       "      <td>8.585618</td>\n",
       "      <td>8.578084</td>\n",
       "      <td>...</td>\n",
       "      <td>8.582309</td>\n",
       "      <td>8.580029</td>\n",
       "      <td>8.570278</td>\n",
       "      <td>8.559317</td>\n",
       "      <td>8.582286</td>\n",
       "      <td>8.575124</td>\n",
       "      <td>8.581448</td>\n",
       "      <td>8.582294</td>\n",
       "      <td>8.565852</td>\n",
       "      <td>8.568000</td>\n",
       "    </tr>\n",
       "  </tbody>\n",
       "</table>\n",
       "<p>5 rows × 531 columns</p>\n",
       "</div>"
      ],
      "text/plain": [
       "   12043-6225  12063-6259  12073-6233  12148-6741  12216-6218  12226+0102  \\\n",
       "0    7.860251    7.862759    7.864406    7.864011    7.864883    7.861944   \n",
       "1    8.054492    8.052193    8.041659    8.050639    8.040395    8.045418   \n",
       "2    8.226692    8.232277    8.230711    8.227723    8.228763    8.238504   \n",
       "3    8.396819    8.404827    8.400978    8.405921    8.407011    8.403179   \n",
       "4    8.585093    8.569422    8.574238    8.571307    8.565902    8.579400   \n",
       "\n",
       "   12230-5943  12233-5920  12247-5842  12274-7647  ...  23309+2213  \\\n",
       "0    7.870065    7.859010    7.863359    7.864565  ...    7.864798   \n",
       "1    8.050928    8.047220    8.053614    8.051108  ...    8.047529   \n",
       "2    8.229733    8.230733    8.230070    8.233486  ...    8.241394   \n",
       "3    8.402961    8.409550    8.405349    8.398662  ...    8.414162   \n",
       "4    8.574756    8.578492    8.585618    8.578084  ...    8.582309   \n",
       "\n",
       "   23320+4316  23365+5159  23416+6130  23439+5412  23491+6243  23496+6131  \\\n",
       "0    7.861496    7.856951    7.861483    7.862815    7.861386    7.861062   \n",
       "1    8.045410    8.045976    8.058945    8.050414    8.045272    8.052644   \n",
       "2    8.231385    8.221734    8.230750    8.230825    8.228073    8.229939   \n",
       "3    8.406240    8.405529    8.401249    8.399691    8.396961    8.407896   \n",
       "4    8.580029    8.570278    8.559317    8.582286    8.575124    8.581448   \n",
       "\n",
       "   23528+4821  23541+7031  23564-5651  \n",
       "0    7.871683    7.872028    7.858041  \n",
       "1    8.050345    8.054690    8.061917  \n",
       "2    8.230677    8.224249    8.229404  \n",
       "3    8.407431    8.405985    8.399666  \n",
       "4    8.582294    8.565852    8.568000  \n",
       "\n",
       "[5 rows x 531 columns]"
      ]
     },
     "execution_count": 100,
     "metadata": {},
     "output_type": "execute_result"
    }
   ],
   "source": [
    "wavlength_values.head()"
   ]
  },
  {
   "cell_type": "markdown",
   "id": "cb928c2f-720c-4185-ab3e-103ad91dab9d",
   "metadata": {
    "tags": []
   },
   "source": [
    "## Part 3: Using a \"New\" Package (15 points)\n",
    "For this problem, we want you to use a new package that you aren’t as used to. Specifically, you’ll be using the [Seaborn plotting package](https://seaborn.pydata.org/). \n",
    "\n",
    "&#9989; RA and DEC are two measurements that are equivalent to latitude and longitude on earth (I.e., they give the position on the sky). **Use the Seaborn `relplot` and your metadata dataframe to make a scatter plot of the following:** \n",
    "\n",
    "- RA on the x-axis \n",
    "- DEC on the y-axis \n",
    "- The size of your data points on the plot should correspond to the scale factor (a measure of total brightness of the source.) \n",
    "\n",
    "**Hint:** You might want to take a look at the Seaborn example gallery. "
   ]
  },
  {
   "cell_type": "code",
   "execution_count": 101,
   "id": "9d5ee909-a4f0-4678-89be-07e412a305b9",
   "metadata": {},
   "outputs": [
    {
     "data": {
      "text/plain": [
       "<seaborn.axisgrid.FacetGrid at 0x7f7feda09700>"
      ]
     },
     "execution_count": 101,
     "metadata": {},
     "output_type": "execute_result"
    },
    {
     "data": {
      "image/png": "[encoded data removed]",
      "text/plain": [
       "<Figure size 428.5x360 with 1 Axes>"
      ]
     },
     "metadata": {
      "needs_background": "light"
     },
     "output_type": "display_data"
    }
   ],
   "source": [
    "#Write your code here\n",
    "import seaborn as sns\n",
    "sns.relplot(x=metadata[\"RA\"],y=metadata[\"DEC\"],size = metadata['Scale Factor'], sizes = (30,200))"
   ]
  },
  {
   "cell_type": "markdown",
   "id": "968006d1-c4d2-4d09-ba0f-72e9fba50de7",
   "metadata": {
    "jp-MarkdownHeadingCollapsed": true,
    "tags": []
   },
   "source": [
    "---\n",
    "### &#128721; STOP (1 point)\n",
    "**Pause to commit your changes to your Git repository!**\n",
    "\n",
    "Take a moment to save your notebook, commit and push the changes to your Git repository.\n",
    "\n",
    "---"
   ]
  },
  {
   "cell_type": "markdown",
   "id": "a8efb523-e4b5-44bc-9687-1568577fc1f2",
   "metadata": {
    "tags": []
   },
   "source": [
    "## Part 4: Accessing Specific Data Values with Pandas (25 points)\n",
    "\n",
    "For this part of the exam, we’ll walk through how to use Pandas to access specific pieces of information in our dataframes.\n",
    "\n",
    "### 4.1 Getting the Metadata (5 points)\n",
    "\n",
    "&#9989; **Use Pandas to access the value in the the 3rd row and 2nd column in the metadata dataframe (I.e., the RA for 12073-6233).** *Hint: What is the easiest way to access data using index values?*"
   ]
  },
  {
   "cell_type": "code",
   "execution_count": 102,
   "id": "d5baf706-738d-4b61-97a8-f6d827b5bfd3",
   "metadata": {},
   "outputs": [
    {
     "data": {
      "text/plain": [
       "12.123"
      ]
     },
     "execution_count": 102,
     "metadata": {},
     "output_type": "execute_result"
    }
   ],
   "source": [
    "#Write your code here\n",
    "metadata.iloc[2,1]\n",
    "# iloc is the easiest way to find values to me"
   ]
  },
  {
   "cell_type": "markdown",
   "id": "8f9d3b23-a3fb-459b-97d4-facdb37cd7f7",
   "metadata": {},
   "source": [
    "### 4.2 Getting Flux Data (10 Points)\n",
    "\n",
    "&#9989; **Use Pandas to access the entire second column of data in the flux dataframe (I.e., all flux values for 12063-6259).** Try to use the same tools as the previous problem."
   ]
  },
  {
   "cell_type": "code",
   "execution_count": 103,
   "id": "c3da70e4-3464-4453-a8b3-2780a32a2336",
   "metadata": {},
   "outputs": [
    {
     "data": {
      "text/plain": [
       "0     7660.9990\n",
       "1     7906.7840\n",
       "2     7821.8984\n",
       "3     7240.5156\n",
       "4     6555.7860\n",
       "        ...    \n",
       "88    7084.0360\n",
       "89    6971.7830\n",
       "90    7015.5747\n",
       "91    6962.2200\n",
       "92    6263.4400\n",
       "Name: 12063-6259, Length: 93, dtype: float64"
      ]
     },
     "execution_count": 103,
     "metadata": {},
     "output_type": "execute_result"
    }
   ],
   "source": [
    "#Write your code here\n",
    "flux_values.iloc[:,1]"
   ]
  },
  {
   "cell_type": "markdown",
   "id": "42affb76-e248-4443-8261-1d0e32aebcda",
   "metadata": {},
   "source": [
    "### 4.3 Getting Wavelength Data (10 Points)\n",
    "\n",
    "&#9989; **Use Pandas to access the entire third column of data in the wavelength dataframe (I.e., all wavelength values for 12073-6233).** Try to use the same tools as the previous two parts."
   ]
  },
  {
   "cell_type": "code",
   "execution_count": 104,
   "id": "3a398463-bd78-4f43-998d-39ce1d4b8c25",
   "metadata": {},
   "outputs": [
    {
     "data": {
      "text/plain": [
       "0      7.864406\n",
       "1      8.041659\n",
       "2      8.230711\n",
       "3      8.400978\n",
       "4      8.574238\n",
       "        ...    \n",
       "88    22.185389\n",
       "89    22.358518\n",
       "90    22.558641\n",
       "91    22.741007\n",
       "92    22.916100\n",
       "Name: 12073-6233, Length: 93, dtype: float64"
      ]
     },
     "execution_count": 104,
     "metadata": {},
     "output_type": "execute_result"
    }
   ],
   "source": [
    "#Write your code here\n",
    "wavlength_values.iloc[:,2]"
   ]
  },
  {
   "cell_type": "markdown",
   "id": "2c5a612c-c356-4ab1-a62c-fa8daafb80bd",
   "metadata": {},
   "source": [
    "## Part 5: Designing a Class (15 points)\n",
    "\n",
    "The issue with this dataset is that it comes in two parts: the spectra and the metadata for each source. To make life easier, we’re going to combine both the data and the metadata by designing a new class, the `spectrum` class.\n",
    "\n",
    "&#9989; **Write a new class for this spectrum data.** Your class should have the following: \n",
    "- Attributes for each piece of information in the metadata file (I.e., ID, RA, DEC, and Scale Factor)\n",
    "- Wavelengths \n",
    "- Flux \n",
    "- `get`-methods for both wavelength and flux (for the sake of time, you don’t need to write `set`-methods or `get`-methods for any of the other attributes)."
   ]
  },
  {
   "cell_type": "code",
   "execution_count": 105,
   "id": "75300159",
   "metadata": {},
   "outputs": [
    {
     "data": {
      "text/html": [
       "<div>\n",
       "<style scoped>\n",
       "    .dataframe tbody tr th:only-of-type {\n",
       "        vertical-align: middle;\n",
       "    }\n",
       "\n",
       "    .dataframe tbody tr th {\n",
       "        vertical-align: top;\n",
       "    }\n",
       "\n",
       "    .dataframe thead th {\n",
       "        text-align: right;\n",
       "    }\n",
       "</style>\n",
       "<table border=\"1\" class=\"dataframe\">\n",
       "  <thead>\n",
       "    <tr style=\"text-align: right;\">\n",
       "      <th></th>\n",
       "      <th>ID</th>\n",
       "      <th>RA</th>\n",
       "      <th>DEC</th>\n",
       "      <th>Scale Factor</th>\n",
       "    </tr>\n",
       "  </thead>\n",
       "  <tbody>\n",
       "    <tr>\n",
       "      <th>0</th>\n",
       "      <td>12043-6225</td>\n",
       "      <td>12.073</td>\n",
       "      <td>-62.428</td>\n",
       "      <td>1.250000e-16</td>\n",
       "    </tr>\n",
       "    <tr>\n",
       "      <th>1</th>\n",
       "      <td>12063-6259</td>\n",
       "      <td>12.106</td>\n",
       "      <td>-62.987</td>\n",
       "      <td>2.970000e-16</td>\n",
       "    </tr>\n",
       "    <tr>\n",
       "      <th>2</th>\n",
       "      <td>12073-6233</td>\n",
       "      <td>12.123</td>\n",
       "      <td>-62.554</td>\n",
       "      <td>3.130000e-15</td>\n",
       "    </tr>\n",
       "    <tr>\n",
       "      <th>3</th>\n",
       "      <td>12148-6741</td>\n",
       "      <td>12.247</td>\n",
       "      <td>-67.683</td>\n",
       "      <td>1.730000e-15</td>\n",
       "    </tr>\n",
       "    <tr>\n",
       "      <th>4</th>\n",
       "      <td>12216-6218</td>\n",
       "      <td>12.360</td>\n",
       "      <td>-62.303</td>\n",
       "      <td>2.180000e-16</td>\n",
       "    </tr>\n",
       "    <tr>\n",
       "      <th>...</th>\n",
       "      <td>...</td>\n",
       "      <td>...</td>\n",
       "      <td>...</td>\n",
       "      <td>...</td>\n",
       "    </tr>\n",
       "    <tr>\n",
       "      <th>526</th>\n",
       "      <td>23491+6243</td>\n",
       "      <td>23.819</td>\n",
       "      <td>62.732</td>\n",
       "      <td>2.220000e-16</td>\n",
       "    </tr>\n",
       "    <tr>\n",
       "      <th>527</th>\n",
       "      <td>23496+6131</td>\n",
       "      <td>23.827</td>\n",
       "      <td>61.526</td>\n",
       "      <td>1.250000e-15</td>\n",
       "    </tr>\n",
       "    <tr>\n",
       "      <th>528</th>\n",
       "      <td>23528+4821</td>\n",
       "      <td>23.881</td>\n",
       "      <td>48.360</td>\n",
       "      <td>5.740000e-16</td>\n",
       "    </tr>\n",
       "    <tr>\n",
       "      <th>529</th>\n",
       "      <td>23541+7031</td>\n",
       "      <td>23.902</td>\n",
       "      <td>70.526</td>\n",
       "      <td>4.120000e-16</td>\n",
       "    </tr>\n",
       "    <tr>\n",
       "      <th>530</th>\n",
       "      <td>23564-5651</td>\n",
       "      <td>23.941</td>\n",
       "      <td>-56.854</td>\n",
       "      <td>4.840000e-16</td>\n",
       "    </tr>\n",
       "  </tbody>\n",
       "</table>\n",
       "<p>531 rows × 4 columns</p>\n",
       "</div>"
      ],
      "text/plain": [
       "             ID      RA     DEC  Scale Factor\n",
       "0    12043-6225  12.073 -62.428  1.250000e-16\n",
       "1    12063-6259  12.106 -62.987  2.970000e-16\n",
       "2    12073-6233  12.123 -62.554  3.130000e-15\n",
       "3    12148-6741  12.247 -67.683  1.730000e-15\n",
       "4    12216-6218  12.360 -62.303  2.180000e-16\n",
       "..          ...     ...     ...           ...\n",
       "526  23491+6243  23.819  62.732  2.220000e-16\n",
       "527  23496+6131  23.827  61.526  1.250000e-15\n",
       "528  23528+4821  23.881  48.360  5.740000e-16\n",
       "529  23541+7031  23.902  70.526  4.120000e-16\n",
       "530  23564-5651  23.941 -56.854  4.840000e-16\n",
       "\n",
       "[531 rows x 4 columns]"
      ]
     },
     "execution_count": 105,
     "metadata": {},
     "output_type": "execute_result"
    }
   ],
   "source": [
    "metadata"
   ]
  },
  {
   "cell_type": "code",
   "execution_count": 225,
   "id": "dfc6d1d7-90f0-4de4-9adf-a81ac137c0b3",
   "metadata": {},
   "outputs": [],
   "source": [
    "#Write class here\n",
    "class spectrum:\n",
    "    ''' Class for combining both spectra data and metadata for each source'''\n",
    "    def __init__(self, metadata):\n",
    "        self.ID = metadata[0]\n",
    "        self.RA = metadata[1]\n",
    "        self.DEC = metadata[2]\n",
    "        self.scale = metadata[3]\n",
    "    def get_wavelength(self):\n",
    "        self.wavelength = wavlength_values[ID]\n",
    "        return self.wavelength\n",
    "    def get_flux(self):\n",
    "        self.flux = flux_values.iloc[:,1]\n",
    "        return self.flux"
   ]
  },
  {
   "cell_type": "markdown",
   "id": "d6fbf4fe-e3fb-46c6-a192-6d235ee9348f",
   "metadata": {
    "jp-MarkdownHeadingCollapsed": true,
    "tags": []
   },
   "source": [
    "---\n",
    "### &#128721; STOP (1 point)\n",
    "**Pause to commit your changes to your Git repository!**\n",
    "\n",
    "Take a moment to save your notebook, commit  and push the changes to your Git repository.\n",
    "\n",
    "---"
   ]
  },
  {
   "cell_type": "markdown",
   "id": "5c647abf-1b0a-4485-9765-5b448d3b776e",
   "metadata": {},
   "source": [
    "## Part 6: Building Objects (15 points)\n",
    "\n",
    "&#9989; **Construct `spectra` objects for all of the spectral measurements. Append all of the objects to a new list called `spectrum_objects`.** "
   ]
  },
  {
   "cell_type": "code",
   "execution_count": 226,
   "id": "aee8c287-b4b1-4628-a36a-c484212e69eb",
   "metadata": {},
   "outputs": [
    {
     "ename": "NameError",
     "evalue": "name 'ID' is not defined",
     "output_type": "error",
     "traceback": [
      "\u001b[0;31m---------------------------------------------------------------------------\u001b[0m",
      "\u001b[0;31mNameError\u001b[0m                                 Traceback (most recent call last)",
      "\u001b[0;32m<ipython-input-226-c586bd219cf0>\u001b[0m in \u001b[0;36m<module>\u001b[0;34m\u001b[0m\n\u001b[1;32m      1\u001b[0m \u001b[0;31m#Write your code here\u001b[0m\u001b[0;34m\u001b[0m\u001b[0;34m\u001b[0m\u001b[0;34m\u001b[0m\u001b[0m\n\u001b[1;32m      2\u001b[0m \u001b[0mspec1\u001b[0m \u001b[0;34m=\u001b[0m \u001b[0mspectrum\u001b[0m\u001b[0;34m(\u001b[0m\u001b[0;34m'12043-6225'\u001b[0m\u001b[0;34m)\u001b[0m\u001b[0;34m\u001b[0m\u001b[0;34m\u001b[0m\u001b[0m\n\u001b[0;32m----> 3\u001b[0;31m \u001b[0mprint\u001b[0m\u001b[0;34m(\u001b[0m\u001b[0mspec1\u001b[0m\u001b[0;34m.\u001b[0m\u001b[0mget_wavelength\u001b[0m\u001b[0;34m(\u001b[0m\u001b[0;34m)\u001b[0m\u001b[0;34m)\u001b[0m\u001b[0;34m\u001b[0m\u001b[0;34m\u001b[0m\u001b[0m\n\u001b[0m",
      "\u001b[0;32m<ipython-input-225-b34cce0b6122>\u001b[0m in \u001b[0;36mget_wavelength\u001b[0;34m(self)\u001b[0m\n\u001b[1;32m      8\u001b[0m         \u001b[0mself\u001b[0m\u001b[0;34m.\u001b[0m\u001b[0mscale\u001b[0m \u001b[0;34m=\u001b[0m \u001b[0mmetadata\u001b[0m\u001b[0;34m[\u001b[0m\u001b[0;36m3\u001b[0m\u001b[0;34m]\u001b[0m\u001b[0;34m\u001b[0m\u001b[0;34m\u001b[0m\u001b[0m\n\u001b[1;32m      9\u001b[0m     \u001b[0;32mdef\u001b[0m \u001b[0mget_wavelength\u001b[0m\u001b[0;34m(\u001b[0m\u001b[0mself\u001b[0m\u001b[0;34m)\u001b[0m\u001b[0;34m:\u001b[0m\u001b[0;34m\u001b[0m\u001b[0;34m\u001b[0m\u001b[0m\n\u001b[0;32m---> 10\u001b[0;31m         \u001b[0mself\u001b[0m\u001b[0;34m.\u001b[0m\u001b[0mwavelength\u001b[0m \u001b[0;34m=\u001b[0m \u001b[0mwavlength_values\u001b[0m\u001b[0;34m[\u001b[0m\u001b[0mID\u001b[0m\u001b[0;34m]\u001b[0m\u001b[0;34m\u001b[0m\u001b[0;34m\u001b[0m\u001b[0m\n\u001b[0m\u001b[1;32m     11\u001b[0m         \u001b[0;32mreturn\u001b[0m \u001b[0mself\u001b[0m\u001b[0;34m.\u001b[0m\u001b[0mwavelength\u001b[0m\u001b[0;34m\u001b[0m\u001b[0;34m\u001b[0m\u001b[0m\n\u001b[1;32m     12\u001b[0m     \u001b[0;32mdef\u001b[0m \u001b[0mget_flux\u001b[0m\u001b[0;34m(\u001b[0m\u001b[0mself\u001b[0m\u001b[0;34m)\u001b[0m\u001b[0;34m:\u001b[0m\u001b[0;34m\u001b[0m\u001b[0;34m\u001b[0m\u001b[0m\n",
      "\u001b[0;31mNameError\u001b[0m: name 'ID' is not defined"
     ]
    }
   ],
   "source": [
    "#Write your code here\n",
    "spec1 = spectrum('12043-6225')\n",
    "print(spec1.get_wavelength())"
   ]
  },
  {
   "cell_type": "markdown",
   "id": "a19509b9-fafb-47b0-bcb3-01b390cb17c4",
   "metadata": {},
   "source": [
    "## Part 7: Make a Damn Plot (10 points)\n",
    "\n",
    "&#9989; **Select one of your spectrum objects and use it to make a plot. Your plot should have Wavelength on the x-axis and flux on the y-axis.**\n",
    "\n",
    "*Note: You can complete this problem even if you did not complete Part 6. As long as you have A spectrum object.*"
   ]
  },
  {
   "cell_type": "code",
   "execution_count": 139,
   "id": "e6dcd0a2-874f-4ffe-8997-4117b89b9ab9",
   "metadata": {},
   "outputs": [],
   "source": [
    "#Write your code here\n"
   ]
  },
  {
   "cell_type": "markdown",
   "id": "24487f41-d69d-4da0-9964-795c7a7d3e7b",
   "metadata": {
    "tags": []
   },
   "source": [
    "---\n",
    "### &#128721; STOP (1 point)\n",
    "**Pause to commit your changes to your Git repository!**\n",
    "\n",
    "Take a moment to save your notebook, commit  and push the changes to your Git repository.\n",
    "\n",
    "---"
   ]
  },
  {
   "cell_type": "markdown",
   "id": "0cd14847-5fcd-40e6-8799-c2e91ea181f2",
   "metadata": {
    "jp-MarkdownHeadingCollapsed": true,
    "tags": []
   },
   "source": [
    "## You're done! Congrats on finishing your CMSE 202 Midterm!\n",
    "\n",
    "Make sure all of your changes to your repository are committed and pushed to GitHub. Also upload a copy of this notebook to the dropbox on D2L in case something went wrong with your repository or if you couldn't get the repository to work."
   ]
  }
 ],
 "metadata": {
  "kernelspec": {
   "display_name": "Python 3",
   "language": "python",
   "name": "python3"
  },
  "language_info": {
   "codemirror_mode": {
    "name": "ipython",
    "version": 3
   },
   "file_extension": ".py",
   "mimetype": "text/x-python",
   "name": "python",
   "nbconvert_exporter": "python",
   "pygments_lexer": "ipython3",
   "version": "3.8.8"
  }
 },
 "nbformat": 4,
 "nbformat_minor": 5
}
