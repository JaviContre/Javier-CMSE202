{
 "cells": [
  {
   "cell_type": "markdown",
   "metadata": {},
   "source": [
    "# CMSE 202 Final S23 (Sect. 002)\n"
   ]
  },
  {
   "cell_type": "markdown",
   "metadata": {},
   "source": [
    "### <p style=\"text-align: right;\"> &#9989; Javi Contreras Orantes</p>\n",
    "### <p style=\"text-align: right;\"> &#9989; JaviContre</p>"
   ]
  },
  {
   "cell_type": "markdown",
   "metadata": {},
   "source": [
    "The goal of this final is to give you the opportunity to test out some of the skills that you've developed this semester. In particular, you'll reflect on what you know about writing code using Python and showcase some of your new programming skills.\n",
    "\n",
    "**Important note about using online resources:** This exam is \"open internet\". That means that you can look up documentation, google how to accomplish certain Python tasks, etc. Being able to effectively use the internet for computational modeling and data science is a very important skill, so we want to make sure you have the opportunity to exercise that skill. **However, the use of any person-to-person communication software is absolutely not acceptable.**\n",
    "\n",
    "**Do your own work.** This final is designed to give you the opportunity to show the instructor what you can do and you should hold yourself accountable for maintaining a high level of academic integrity. Any violation of academic integrity could result in you receiving a zero on the final.\n",
    "\n",
    "You are encouraged to look through the entire exam before you get started so that you can appropriately budget your time and understand the broad goals of the exam.\n",
    "\n",
    "### INSTRUCTORS MAY WANT TO CHANGE THIS PART\n",
    "While the exam will be *open* for 12 hours, **you should only take two hours on the exam.** The exam was written to take two hours. We'll be going on the honor system for this. There are times when instructors will be available to answer questions. \n",
    "\n",
    "\n",
    "### Content Knowledge Tested\n",
    "- Using Github to save and track progress on your work\n",
    "- Effectively visualizing data\n",
    "- Using ML tools to create a classification model\n",
    "- Quantitatively evaluating classification models"
   ]
  },
  {
   "cell_type": "markdown",
   "metadata": {},
   "source": [
    "## Part 0: Add to your Git repository to track your progress on your exam (10 points total)\n",
    "\n",
    "Before you get to far along in the exam, you're going to add it to the `cmse202-S23-turnin` repository you created in class so that you can track your progress on the exam and preserve the final version that you turn in. In order to do this you need to\n",
    "\n",
    "### Part 0.1 (4 Points)\n",
    "\n",
    "1. Navigate to your `cmse202-S23-turnin` repository and create a new directory called `final`.\n",
    "2. Move this notebook into that **new directory** in your repository, then **add it and commit it to your repository**.\n",
    "3. Finally, to test that everything is working, \"git push\" the file so that it ends up in your GitHub repository.\n",
    "\n",
    "**Important**: Double check you've added your Professor and your TA as collaborators to your \"turnin\" respository (you should have done this in the previous homework assignment).\n",
    "\n",
    "**Also important**: Make sure that the version of this notebook that you are working on is the same one that you just added to your repository! If you are working on a different copy of the noteobok, **none of your changes will be tracked**!\n",
    "\n",
    "The file should now show up on your GitHub account in the `cmse202-S23-turnin` repository inside the `final` directory you just created.  Periodically, **you'll be asked to commit your changes to the repository and push them to the remote GitHub location**. It can be good to get into a habit of committing your changes any time you make a significant modification."
   ]
  },
  {
   "cell_type": "markdown",
   "metadata": {},
   "source": [
    "## Part 1 (5 Points)\n",
    "\n",
    "For this exam, you’ll be working with a data set that contains measurements of the physical characteristics of dry seeds (e.g., shape, size, etc.). This is a subset of the larger dataset that can be [found here](http://archive.ics.uci.edu/ml/datasets/Dry+Bean+Dataset). We’ll ask you a set of questions that center the classification of these seeds using techniques you’ve worked with in class and on the homework. \n",
    "\n",
    "To get started, let’s grab the dataset we’ll be working with.\n",
    "\n",
    "**Use the following URL to download the dataset. Import the dataset in the cell below.**\n",
    "\n",
    "`https://raw.githubusercontent.com/msu-cmse-courses/cmse202-S23-data/main/Final/Seed_data.csv`"
   ]
  },
  {
   "cell_type": "code",
   "execution_count": 1,
   "metadata": {},
   "outputs": [],
   "source": [
    "#Write your code for downloading the data here\n",
    "# curl -o Seed_data.csv https://raw.githubusercontent.com/msu-cmse-courses/cmse202-S23-data/main/Final/Seed_data.csv"
   ]
  },
  {
   "cell_type": "code",
   "execution_count": 2,
   "metadata": {},
   "outputs": [
    {
     "data": {
      "text/html": [
       "<div>\n",
       "<style scoped>\n",
       "    .dataframe tbody tr th:only-of-type {\n",
       "        vertical-align: middle;\n",
       "    }\n",
       "\n",
       "    .dataframe tbody tr th {\n",
       "        vertical-align: top;\n",
       "    }\n",
       "\n",
       "    .dataframe thead th {\n",
       "        text-align: right;\n",
       "    }\n",
       "</style>\n",
       "<table border=\"1\" class=\"dataframe\">\n",
       "  <thead>\n",
       "    <tr style=\"text-align: right;\">\n",
       "      <th></th>\n",
       "      <th>roundness</th>\n",
       "      <th>ShapeFactor2</th>\n",
       "      <th>Compactness</th>\n",
       "      <th>Class</th>\n",
       "    </tr>\n",
       "  </thead>\n",
       "  <tbody>\n",
       "    <tr>\n",
       "      <th>0</th>\n",
       "      <td>0.958027</td>\n",
       "      <td>0.003147</td>\n",
       "      <td>0.913358</td>\n",
       "      <td>SEKER</td>\n",
       "    </tr>\n",
       "    <tr>\n",
       "      <th>1</th>\n",
       "      <td>0.887034</td>\n",
       "      <td>0.003564</td>\n",
       "      <td>0.953861</td>\n",
       "      <td>SEKER</td>\n",
       "    </tr>\n",
       "    <tr>\n",
       "      <th>2</th>\n",
       "      <td>0.947849</td>\n",
       "      <td>0.003048</td>\n",
       "      <td>0.908774</td>\n",
       "      <td>SEKER</td>\n",
       "    </tr>\n",
       "    <tr>\n",
       "      <th>3</th>\n",
       "      <td>0.903936</td>\n",
       "      <td>0.003215</td>\n",
       "      <td>0.928329</td>\n",
       "      <td>SEKER</td>\n",
       "    </tr>\n",
       "    <tr>\n",
       "      <th>4</th>\n",
       "      <td>0.984877</td>\n",
       "      <td>0.003665</td>\n",
       "      <td>0.970516</td>\n",
       "      <td>SEKER</td>\n",
       "    </tr>\n",
       "    <tr>\n",
       "      <th>...</th>\n",
       "      <td>...</td>\n",
       "      <td>...</td>\n",
       "      <td>...</td>\n",
       "      <td>...</td>\n",
       "    </tr>\n",
       "    <tr>\n",
       "      <th>9090</th>\n",
       "      <td>0.916603</td>\n",
       "      <td>0.001749</td>\n",
       "      <td>0.801865</td>\n",
       "      <td>DERMASON</td>\n",
       "    </tr>\n",
       "    <tr>\n",
       "      <th>9091</th>\n",
       "      <td>0.922015</td>\n",
       "      <td>0.001886</td>\n",
       "      <td>0.822252</td>\n",
       "      <td>DERMASON</td>\n",
       "    </tr>\n",
       "    <tr>\n",
       "      <th>9092</th>\n",
       "      <td>0.918424</td>\n",
       "      <td>0.001888</td>\n",
       "      <td>0.822730</td>\n",
       "      <td>DERMASON</td>\n",
       "    </tr>\n",
       "    <tr>\n",
       "      <th>9093</th>\n",
       "      <td>0.907906</td>\n",
       "      <td>0.001852</td>\n",
       "      <td>0.817457</td>\n",
       "      <td>DERMASON</td>\n",
       "    </tr>\n",
       "    <tr>\n",
       "      <th>9094</th>\n",
       "      <td>0.888380</td>\n",
       "      <td>0.001640</td>\n",
       "      <td>0.784997</td>\n",
       "      <td>DERMASON</td>\n",
       "    </tr>\n",
       "  </tbody>\n",
       "</table>\n",
       "<p>9095 rows × 4 columns</p>\n",
       "</div>"
      ],
      "text/plain": [
       "      roundness  ShapeFactor2  Compactness     Class\n",
       "0      0.958027      0.003147     0.913358     SEKER\n",
       "1      0.887034      0.003564     0.953861     SEKER\n",
       "2      0.947849      0.003048     0.908774     SEKER\n",
       "3      0.903936      0.003215     0.928329     SEKER\n",
       "4      0.984877      0.003665     0.970516     SEKER\n",
       "...         ...           ...          ...       ...\n",
       "9090   0.916603      0.001749     0.801865  DERMASON\n",
       "9091   0.922015      0.001886     0.822252  DERMASON\n",
       "9092   0.918424      0.001888     0.822730  DERMASON\n",
       "9093   0.907906      0.001852     0.817457  DERMASON\n",
       "9094   0.888380      0.001640     0.784997  DERMASON\n",
       "\n",
       "[9095 rows x 4 columns]"
      ]
     },
     "execution_count": 2,
     "metadata": {},
     "output_type": "execute_result"
    }
   ],
   "source": [
    "#Write your code for importing the data here\n",
    "import pandas as pd\n",
    "seed_data = pd.read_csv(\"Seed_data.csv\")\n",
    "seed_data"
   ]
  },
  {
   "cell_type": "markdown",
   "metadata": {},
   "source": [
    "## Part 2 (15 Points)\n",
    "\n",
    "Use Seaborn to make a visualization showing the distributions (I.e., histograms and/or scatterplots) of each of the different seed characteristics. Your visualization should represent each of the different seed type/classes as a different color. This should all be a single figure. Use the [**examples in the seaborn gallery**](https://seaborn.pydata.org/examples/index.html) to help you find the right type of figure. (Note: There are several types of figures that will work for this.)"
   ]
  },
  {
   "cell_type": "code",
   "execution_count": 3,
   "metadata": {},
   "outputs": [
    {
     "data": {
      "image/png": "[encoded data removed]",
      "text/plain": [
       "<Figure size 432x288 with 1 Axes>"
      ]
     },
     "metadata": {
      "needs_background": "light"
     },
     "output_type": "display_data"
    }
   ],
   "source": [
    "#Write your plotting code here\n",
    "import seaborn as sns\n",
    "import matplotlib.pyplot as plt\n",
    "class_lst = seed_data['Class'].unique()\n",
    "sns.scatterplot(x=\"roundness\", y=\"ShapeFactor2\",\n",
    "                hue=\"Class\", size=\"Compactness\",\n",
    "                hue_order=class_lst,\n",
    "                sizes=(1, 8), linewidth=0,\n",
    "                data=seed_data)\n",
    "plt.show()"
   ]
  },
  {
   "cell_type": "markdown",
   "metadata": {},
   "source": [
    "## Part 3 (15 Points)\n",
    "\n",
    "Look at the distributions of the data. Without doing any model fitting (I.e., just by eye), which pair of seeds do you think would be **easiest** for an ML technique to differentiate between? Which pair of seeds do you believe would be **hardest** to separate? **Why?** Justify your answers using your visualization."
   ]
  },
  {
   "cell_type": "markdown",
   "metadata": {},
   "source": [
    "Based off of the model, I believe that the 2 easiest seed to separate would be Seker and Horoz because there is aquite clearly a boundary line at .0015 from the y-axis (ShapeFactor2). The 2 hardest to separate would be Seker and Dermason because there is just a bunch of overlap between the 2."
   ]
  },
  {
   "cell_type": "markdown",
   "metadata": {},
   "source": [
    "---\n",
    "### &#128721; STOP (2 points)\n",
    "**Pause to commit your changes to your Git repository!**\n",
    "\n",
    "Take a moment to save your notebook, commit and push the changes to your Git repository.\n",
    "\n",
    "---"
   ]
  },
  {
   "cell_type": "markdown",
   "metadata": {},
   "source": [
    "## Part 4 (15 Points)\n",
    "\n",
    "Create a new dataframe that only contains data for the seeds that you believe will be easiest to separate. (You may need to use Google to figure out how to do this.)"
   ]
  },
  {
   "cell_type": "code",
   "execution_count": 4,
   "metadata": {},
   "outputs": [
    {
     "data": {
      "text/html": [
       "<div>\n",
       "<style scoped>\n",
       "    .dataframe tbody tr th:only-of-type {\n",
       "        vertical-align: middle;\n",
       "    }\n",
       "\n",
       "    .dataframe tbody tr th {\n",
       "        vertical-align: top;\n",
       "    }\n",
       "\n",
       "    .dataframe thead th {\n",
       "        text-align: right;\n",
       "    }\n",
       "</style>\n",
       "<table border=\"1\" class=\"dataframe\">\n",
       "  <thead>\n",
       "    <tr style=\"text-align: right;\">\n",
       "      <th></th>\n",
       "      <th>roundness</th>\n",
       "      <th>ShapeFactor2</th>\n",
       "      <th>Compactness</th>\n",
       "      <th>Class</th>\n",
       "    </tr>\n",
       "  </thead>\n",
       "  <tbody>\n",
       "    <tr>\n",
       "      <th>0</th>\n",
       "      <td>0.958027</td>\n",
       "      <td>0.003147</td>\n",
       "      <td>0.913358</td>\n",
       "      <td>SEKER</td>\n",
       "    </tr>\n",
       "    <tr>\n",
       "      <th>1</th>\n",
       "      <td>0.887034</td>\n",
       "      <td>0.003564</td>\n",
       "      <td>0.953861</td>\n",
       "      <td>SEKER</td>\n",
       "    </tr>\n",
       "    <tr>\n",
       "      <th>2</th>\n",
       "      <td>0.947849</td>\n",
       "      <td>0.003048</td>\n",
       "      <td>0.908774</td>\n",
       "      <td>SEKER</td>\n",
       "    </tr>\n",
       "    <tr>\n",
       "      <th>3</th>\n",
       "      <td>0.903936</td>\n",
       "      <td>0.003215</td>\n",
       "      <td>0.928329</td>\n",
       "      <td>SEKER</td>\n",
       "    </tr>\n",
       "    <tr>\n",
       "      <th>4</th>\n",
       "      <td>0.984877</td>\n",
       "      <td>0.003665</td>\n",
       "      <td>0.970516</td>\n",
       "      <td>SEKER</td>\n",
       "    </tr>\n",
       "    <tr>\n",
       "      <th>...</th>\n",
       "      <td>...</td>\n",
       "      <td>...</td>\n",
       "      <td>...</td>\n",
       "      <td>...</td>\n",
       "    </tr>\n",
       "    <tr>\n",
       "      <th>5554</th>\n",
       "      <td>0.794104</td>\n",
       "      <td>0.000830</td>\n",
       "      <td>0.687782</td>\n",
       "      <td>HOROZ</td>\n",
       "    </tr>\n",
       "    <tr>\n",
       "      <th>5555</th>\n",
       "      <td>0.785117</td>\n",
       "      <td>0.000782</td>\n",
       "      <td>0.674331</td>\n",
       "      <td>HOROZ</td>\n",
       "    </tr>\n",
       "    <tr>\n",
       "      <th>5556</th>\n",
       "      <td>0.802588</td>\n",
       "      <td>0.000837</td>\n",
       "      <td>0.691181</td>\n",
       "      <td>HOROZ</td>\n",
       "    </tr>\n",
       "    <tr>\n",
       "      <th>5557</th>\n",
       "      <td>0.777191</td>\n",
       "      <td>0.000816</td>\n",
       "      <td>0.685733</td>\n",
       "      <td>HOROZ</td>\n",
       "    </tr>\n",
       "    <tr>\n",
       "      <th>5558</th>\n",
       "      <td>0.761721</td>\n",
       "      <td>0.000939</td>\n",
       "      <td>0.728204</td>\n",
       "      <td>HOROZ</td>\n",
       "    </tr>\n",
       "  </tbody>\n",
       "</table>\n",
       "<p>3929 rows × 4 columns</p>\n",
       "</div>"
      ],
      "text/plain": [
       "      roundness  ShapeFactor2  Compactness  Class\n",
       "0      0.958027      0.003147     0.913358  SEKER\n",
       "1      0.887034      0.003564     0.953861  SEKER\n",
       "2      0.947849      0.003048     0.908774  SEKER\n",
       "3      0.903936      0.003215     0.928329  SEKER\n",
       "4      0.984877      0.003665     0.970516  SEKER\n",
       "...         ...           ...          ...    ...\n",
       "5554   0.794104      0.000830     0.687782  HOROZ\n",
       "5555   0.785117      0.000782     0.674331  HOROZ\n",
       "5556   0.802588      0.000837     0.691181  HOROZ\n",
       "5557   0.777191      0.000816     0.685733  HOROZ\n",
       "5558   0.761721      0.000939     0.728204  HOROZ\n",
       "\n",
       "[3929 rows x 4 columns]"
      ]
     },
     "execution_count": 4,
     "metadata": {},
     "output_type": "execute_result"
    }
   ],
   "source": [
    "#Write your code for selecting your data here\n",
    "seker = seed_data[\"Class\"] == \"SEKER\"\n",
    "horoz = seed_data[\"Class\"] == \"HOROZ\"\n",
    "new_data = seed_data[seker | horoz]\n",
    "new_data"
   ]
  },
  {
   "cell_type": "markdown",
   "metadata": {},
   "source": [
    "## Part 5 (5 Points)\n",
    "\n",
    "Split the data into a training and testing set. (Make sure to change the class values so that they're 0 and 1, instead of the actual seed names.) Also, for stupid reasons, set the `random_state` to be 35."
   ]
  },
  {
   "cell_type": "code",
   "execution_count": 5,
   "metadata": {},
   "outputs": [],
   "source": [
    "#Write your code for splitting your data here\n",
    "from sklearn.model_selection import train_test_split\n",
    "new_data = new_data.replace(to_replace=[\"SEKER\", \"HOROZ\"], value=[1,0])\n",
    "class_drop = new_data.drop('Class', axis = 1)\n",
    "x_train, x_test, y_train, y_test = train_test_split(class_drop,new_data['Class'], test_size=0.25, random_state=35)"
   ]
  },
  {
   "cell_type": "markdown",
   "metadata": {},
   "source": [
    "## Part 6 (20 Points)\n",
    "\n",
    "Create and train a model (either regression or SVM) for classifying the data. You can choose which type of model you want to use. **Note:** You may get multiple warnings when creating your model (warnings are *pink*). You may also get a warning about a failure to converge. It is fine to ignore these warnings. "
   ]
  },
  {
   "cell_type": "code",
   "execution_count": 6,
   "metadata": {},
   "outputs": [
    {
     "name": "stdout",
     "output_type": "stream",
     "text": [
      "Warning: Maximum number of iterations has been exceeded.\n",
      "         Current function value: 0.033543\n",
      "         Iterations: 35\n",
      "                           Logit Regression Results                           \n",
      "==============================================================================\n",
      "Dep. Variable:                  Class   No. Observations:                 2946\n",
      "Model:                          Logit   Df Residuals:                     2942\n",
      "Method:                           MLE   Df Model:                            3\n",
      "Date:                Wed, 03 May 2023   Pseudo R-squ.:                  0.9516\n",
      "Time:                        18:56:38   Log-Likelihood:                -98.819\n",
      "converged:                      False   LL-Null:                       -2041.0\n",
      "Covariance Type:            nonrobust   LLR p-value:                     0.000\n",
      "================================================================================\n",
      "                   coef    std err          z      P>|z|      [0.025      0.975]\n",
      "--------------------------------------------------------------------------------\n",
      "const        -1080.0154    522.146     -2.068      0.039   -2103.403     -56.628\n",
      "roundness      183.9904     91.489      2.011      0.044       4.675     363.306\n",
      "ShapeFactor2 -1.033e+05   5.03e+04     -2.054      0.040   -2.02e+05   -4730.817\n",
      "Compactness   1365.6921    660.530      2.068      0.039      71.076    2660.308\n",
      "================================================================================\n",
      "\n",
      "Possibly complete quasi-separation: A fraction 0.99 of observations can be\n",
      "perfectly predicted. This might indicate that there is complete\n",
      "quasi-separation. In this case some parameters will not be identified.\n"
     ]
    },
    {
     "name": "stderr",
     "output_type": "stream",
     "text": [
      "/opt/anaconda3/lib/python3.8/site-packages/statsmodels/base/model.py:566: ConvergenceWarning: Maximum Likelihood optimization failed to converge. Check mle_retvals\n",
      "  warnings.warn(\"Maximum Likelihood optimization failed to \"\n"
     ]
    }
   ],
   "source": [
    "#Write your code for training your model here\n",
    "import statsmodels.api as sm\n",
    "cnst_train = sm.add_constant(x_train)\n",
    "cnst_test = sm.add_constant(x_test)\n",
    "model = sm.Logit(y_train,cnst_train).fit()        \n",
    "print(model.summary())"
   ]
  },
  {
   "cell_type": "markdown",
   "metadata": {},
   "source": [
    "---\n",
    "### &#128721; STOP (2 points)\n",
    "**Pause to commit your changes to your Git repository!**\n",
    "\n",
    "Take a moment to save your notebook, commit and push the changes to your Git repository.\n",
    "\n",
    "---"
   ]
  },
  {
   "cell_type": "markdown",
   "metadata": {},
   "source": [
    "## Part 7 (5 Points)\n",
    "\n",
    "Evaluate your model by finding the accuracy, recall, and precision using the training data."
   ]
  },
  {
   "cell_type": "code",
   "execution_count": 8,
   "metadata": {},
   "outputs": [
    {
     "name": "stdout",
     "output_type": "stream",
     "text": [
      "              precision    recall  f1-score   support\n",
      "\n",
      "           0       0.89      1.00      0.94       472\n",
      "           1       1.00      0.88      0.94       511\n",
      "\n",
      "    accuracy                           0.94       983\n",
      "   macro avg       0.94      0.94      0.94       983\n",
      "weighted avg       0.95      0.94      0.94       983\n",
      "\n"
     ]
    }
   ],
   "source": [
    "#Write your code for determining the accuracy, recall, and precision of your model\n",
    "from sklearn import metrics\n",
    "from sklearn.metrics import classification_report\n",
    "pred_val = model.predict(cnst_test)\n",
    "pred_val = pred_val.reset_index(drop = True)\n",
    "for i in range(len(pred_val)):\n",
    "    if pred_val[i] == 1:\n",
    "        pred_val[i] = 1\n",
    "    else:\n",
    "        pred_val[i] = 0\n",
    "print(classification_report(y_test, pred_val))"
   ]
  },
  {
   "cell_type": "markdown",
   "metadata": {},
   "source": [
    "- Precision for seker: 1\n",
    "- Precision for horoz: .89\n",
    "- Recall for seker: .88\n",
    "- Recall for horoz: 1\n",
    "- Accuracy: .94"
   ]
  },
  {
   "cell_type": "markdown",
   "metadata": {},
   "source": [
    "## Part 8 (10 Points)\n",
    "\n",
    "Do you think that this model does a good job of classifying the data? How does it compare to previous classification models you’ve created, both in class and on the homework?"
   ]
  },
  {
   "cell_type": "markdown",
   "metadata": {},
   "source": [
    "I do believe that the model classified the data well. The accuracy was a .94 and the precision for seker was a 1, and a .89 for horoz. These are all good statistics. In the last homework, I created a model that had a lower accuracy, precision, and recall than in this model. For the ICAs, I have created at least one model that had a higher accuracy, precision, and recall than in this model. "
   ]
  },
  {
   "cell_type": "markdown",
   "metadata": {},
   "source": [
    "---\n",
    "### &#128721; STOP\n",
    "**Pause to commit your changes to your Git repository!** (2 points)\n",
    "\n",
    "Take a moment to save your notebook, commit the changes to your Git repository.\n",
    "\n",
    "---"
   ]
  },
  {
   "cell_type": "markdown",
   "metadata": {},
   "source": [
    "## You're done! Congrats on finishing CMSE 202!"
   ]
  },
  {
   "cell_type": "markdown",
   "metadata": {},
   "source": [
    "&#169; Copyright 2023,  Department of Computational Mathematics, Science and Engineering at Michigan State University"
   ]
  },
  {
   "cell_type": "markdown",
   "metadata": {},
   "source": []
  }
 ],
 "metadata": {
  "kernelspec": {
   "display_name": "Python 3",
   "language": "python",
   "name": "python3"
  },
  "language_info": {
   "codemirror_mode": {
    "name": "ipython",
    "version": 3
   },
   "file_extension": ".py",
   "mimetype": "text/x-python",
   "name": "python",
   "nbconvert_exporter": "python",
   "pygments_lexer": "ipython3",
   "version": "3.8.8"
  }
 },
 "nbformat": 4,
 "nbformat_minor": 2
}
